{
 "cells": [
  {
   "cell_type": "markdown",
   "id": "b330b7f3-7a0b-4bc1-b318-323b1499f4e9",
   "metadata": {},
   "source": [
    "# Data Science Tools and Ecosystem"
   ]
  },
  {
   "cell_type": "markdown",
   "id": "7f5775cb-896b-4086-8e4f-7c1a585d91b5",
   "metadata": {},
   "source": [
    "In this notebook, Data Science Tools and Ecosystem are summarized."
   ]
  },
  {
   "cell_type": "markdown",
   "id": "3786e98e-381b-49fe-b0d9-e7f0fccabdbb",
   "metadata": {},
   "source": [
    "**Objectives:**\n",
    "- List popular languagues for Data Science\n",
    "- Popula Data Science Tools\n",
    "- How to create a Notebook\n",
    "- How to create a markdown"
   ]
  },
  {
   "cell_type": "markdown",
   "id": "92cd1676-a954-4932-bf01-174907cf1556",
   "metadata": {},
   "source": [
    "Some of the popular languages that Data Scientists use are:\n",
    "1. R programming\n",
    "2. Python\n",
    "3. Java"
   ]
  },
  {
   "cell_type": "markdown",
   "id": "6eaf0057-98f3-4548-a7dd-c922e4adf6ae",
   "metadata": {},
   "source": [
    "Some of the commonly used libraries used by Data Scientists include:\n",
    "1. pandas\n",
    "2. Plotly\n",
    "3. Ggplot2\n",
    "4. Numpy\n",
    "5. TensorFlow"
   ]
  },
  {
   "cell_type": "markdown",
   "id": "48b25125-59de-4802-a7b8-859415feb6f8",
   "metadata": {},
   "source": [
    "| Data Science Tools|\n",
    "|-------------------|\n",
    "| R Studio |\n",
    "| Jupyter Notebook |\n",
    "| VS code |"
   ]
  },
  {
   "cell_type": "markdown",
   "id": "d38d24d7-45ab-43ff-8a30-5a8691f6d272",
   "metadata": {},
   "source": [
    "### Below are a few examples of evaluating arithmetic expressions in Python\n",
    "2+2"
   ]
  },
  {
   "cell_type": "code",
   "execution_count": 3,
   "id": "c2e286fc-4bf5-4f07-aa73-4ee0f8effdba",
   "metadata": {},
   "outputs": [
    {
     "data": {
      "text/plain": [
       "17"
      ]
     },
     "execution_count": 3,
     "metadata": {},
     "output_type": "execute_result"
    }
   ],
   "source": [
    "#This a simple arithmetic expression to mutiply then add integers\n",
    "(3*4)+5"
   ]
  },
  {
   "cell_type": "code",
   "execution_count": 4,
   "id": "43f3b6df-b519-4372-bb15-fec838957601",
   "metadata": {},
   "outputs": [
    {
     "data": {
      "text/plain": [
       "3.3333333333333335"
      ]
     },
     "execution_count": 4,
     "metadata": {},
     "output_type": "execute_result"
    }
   ],
   "source": [
    "#This will convert 200 minutes to hours by diving by 60.\n",
    "200/60"
   ]
  },
  {
   "cell_type": "markdown",
   "id": "d8a48027-12a9-4d87-bedf-c3865ede3e44",
   "metadata": {},
   "source": [
    "## Author\n",
    "**Seth Kwame Ankamah**"
   ]
  },
  {
   "cell_type": "code",
   "execution_count": null,
   "id": "4db0e340-f3ee-4d66-a4a3-fea7fe576509",
   "metadata": {},
   "outputs": [],
   "source": []
  }
 ],
 "metadata": {
  "kernelspec": {
   "display_name": "Python 3 (ipykernel)",
   "language": "python",
   "name": "python3"
  },
  "language_info": {
   "codemirror_mode": {
    "name": "ipython",
    "version": 3
   },
   "file_extension": ".py",
   "mimetype": "text/x-python",
   "name": "python",
   "nbconvert_exporter": "python",
   "pygments_lexer": "ipython3",
   "version": "3.11.7"
  }
 },
 "nbformat": 4,
 "nbformat_minor": 5
}
